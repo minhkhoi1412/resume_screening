{
 "cells": [
  {
   "cell_type": "code",
   "execution_count": 1,
   "metadata": {},
   "outputs": [],
   "source": [
    "import os\n",
    "os.chdir('../')"
   ]
  },
  {
   "cell_type": "code",
   "execution_count": 2,
   "metadata": {},
   "outputs": [
    {
     "name": "stderr",
     "output_type": "stream",
     "text": [
      "[nltk_data] Downloading package stopwords to\n",
      "[nltk_data]     C:\\Users\\neonx\\AppData\\Roaming\\nltk_data...\n",
      "[nltk_data]   Package stopwords is already up-to-date!\n",
      "[nltk_data] Downloading package punkt to\n",
      "[nltk_data]     C:\\Users\\neonx\\AppData\\Roaming\\nltk_data...\n",
      "[nltk_data]   Package punkt is already up-to-date!\n",
      "[nltk_data] Downloading package averaged_perceptron_tagger to\n",
      "[nltk_data]     C:\\Users\\neonx\\AppData\\Roaming\\nltk_data...\n",
      "[nltk_data]   Package averaged_perceptron_tagger is already up-to-\n",
      "[nltk_data]       date!\n",
      "[nltk_data] Downloading package maxent_ne_chunker to\n",
      "[nltk_data]     C:\\Users\\neonx\\AppData\\Roaming\\nltk_data...\n",
      "[nltk_data]   Package maxent_ne_chunker is already up-to-date!\n",
      "[nltk_data] Downloading package words to\n",
      "[nltk_data]     C:\\Users\\neonx\\AppData\\Roaming\\nltk_data...\n",
      "[nltk_data]   Package words is already up-to-date!\n"
     ]
    }
   ],
   "source": [
    "from src import extract_text_from_resumes, extract_features"
   ]
  },
  {
   "cell_type": "code",
   "execution_count": 3,
   "metadata": {},
   "outputs": [],
   "source": [
    "cv = extract_text_from_resumes.extract_text_from_pdf('C:/KhoiNXM/My CV/KHOI NGUYEN XUAN MINH CV 2021.pdf')"
   ]
  },
  {
   "cell_type": "code",
   "execution_count": 4,
   "metadata": {},
   "outputs": [
    {
     "data": {
      "text/plain": [
       "\"KHOI NGUYEN XUAN MINH \\nneo.nxmk@gmail.com | +84932649647 \\nhttps://github.com/minhkhoi1412 | linkedin.com/in/khoi-nguyen-xuan-minh-137577163/ \\n\\nSKILLS \\n•  Programming languages: Python, Matlab \\n•  Frameworks: OpenCV, Tensorflow, Scikit-learn, Keras, TF-IDF, Word2vec, Django, Flask, Node.js, React \\n•  Tools: Jupyter Notebook, Pycharm, Visual Studio Code, Elyra, Power BI, Matlab, Octave, Git, Github, Gitlab, \\n\\nAndroid Studio, VMware, Postman \\n\\n•  Languages: IELTS 6.5 \\n\\nEXPERIENCE \\nData Scientist \\nFPT Telecom \\n•  Analyzed, evaluated and visualized the required problems. \\n•  Built statistical model as required by Head of Department. \\n•  Researched and applied Machine Learning/Deep Learning technologies to optimize the infrastructure for \\n\\nApril 2019 – Present \\n\\nData Center. \\n\\n•  Built text recognition on Facebook live-stream Application by optimizing Tesseract OCR framework. \\n•  Designed and integrated chatbot for booking tickets on Facebook and Zalo using FPT.AI. \\n\\nCOMPANY PROJECTS \\nData Scientist \\n•  Descriptions: Built a customer downtime calculation system and report in real time the calculated \\n\\nCustomer Downtime \\n\\nMarch 2021 – June 2021 \\n\\ndowntime to troubleshooting departments. \\n\\n•  Project scope: FPT Telecom \\n•  Number of participations: 20 \\n•  Responsibilities: Calculated downtime metric, built project dashboard. \\n•  Tech stack: Python, Power BI, Spark \\n\\nData Scientist \\n•  Descriptions: Built a network devices overheat monitoring system that can predict CRITICAL devices \\n\\nIncident Forecast \\n\\nJuly 2021 – September 2021 \\n\\n(overheated devices) to avoid throttles and shutdowns. \\n\\n•  Project scope: FPT Telecom \\n•  Number of participations: 22 \\n•  Responsibilities: Built sequence prediction model LSTM, built Random Forest Classifier, deploy models to \\n\\nproduction server. \\n\\n•  Tech stack: Python, Tensorflow, LSTM model, Random Forest Classifier, Elyra, Airflow. \\n\\nPERSONAL PROJECTS \\nComputer Vision Engineer \\n•  GitHub: https://github.com/minhkhoi1412/Real-time-Face-Identification \\n•  Descriptions: Built an application that can detect faces in real-time and identify identity, gender, age, \\n\\nReal-time Face Identification \\n\\nAug 2020 – Sep 2020 \\n\\nemotion of the faces found in a picture/videostream. \\n\\n•  Tech stack: Python, Tensorflow, OpenCV, MTCNN library, Siamese Networks \\n\\nMachine Learning Engineer \\nChurn Modelling \\n•  GitHub: https://github.com/minhkhoi1412/Churn-Modelling \\n•  Descriptions: Churn is a dataset contains details of a bank's customers and the target variable is a binary \\n\\nMarch 2021 – April 2021 \\n\\nvariable reflecting the fact whether the customer left the bank (closed his account) or he continues to be a \\ncustomer. My job is building a Machine Learning model that can predict will the customers leave or stay \\nwith the bank based on their information.   \\n\\n \\n \\n \\n \\n \\n \\n\\x0c•  Tech stack: Python, Tensorflow \\n\\nComputer Vision Engineer \\n•  GitHub: https://github.com/minhkhoi1412/Human-Detection \\n•  Descriptions: Built a computer application that can detect human from a picture or a video. \\n•  Tech stack: Python, Tensorflow, PyQt5, Yolo, HOG, Haar Cascade classifier \\n\\nHuman Detection \\n\\nApril 2021 – May 2021 \\n\\nEDUCATION \\nHo Chi Minh City \\n•  Electronics – Telecommunications Engineering \\n•  Coursework: Neural Networks and Deep Learning, Improving Deep Neural Networks: Hyperparameter \\nTuning, Regularization and Optimization, Structuring Machine Learning Projects, Convolutional Neural \\nNetworks, Sequence Models. \\n\\nHCMC University of Technology \\n\\nSep 2015 – July 2020 \\n\\n•  Certificates: Applied Machine Learning Certificate granted by Vietnam National University Ho Chi Minh City \\n\\n- University of Science \\n\\n \\n \\n \\n \\n \\n \\n\\x0c\""
      ]
     },
     "execution_count": 4,
     "metadata": {},
     "output_type": "execute_result"
    }
   ],
   "source": [
    "cv"
   ]
  },
  {
   "cell_type": "code",
   "execution_count": 5,
   "metadata": {},
   "outputs": [
    {
     "data": {
      "text/plain": [
       "{'Machine Learning', 'Matlab', 'Python', 'Tensorflow'}"
      ]
     },
     "execution_count": 5,
     "metadata": {},
     "output_type": "execute_result"
    }
   ],
   "source": [
    "extract_features.extract_skills(cv)"
   ]
  },
  {
   "cell_type": "code",
   "execution_count": 8,
   "metadata": {},
   "outputs": [
    {
     "data": {
      "text/plain": [
       "['Python',\n",
       " 'Matlab',\n",
       " 'Keras',\n",
       " 'React',\n",
       " 'Jupyter Notebook',\n",
       " 'Pycharm',\n",
       " 'Visual Studio Code',\n",
       " 'Elyra',\n",
       " 'Power BI',\n",
       " 'Matlab',\n",
       " 'Git',\n",
       " 'Android Studio',\n",
       " 'Postman',\n",
       " 'Built',\n",
       " 'Machine',\n",
       " 'Built',\n",
       " 'Tesseract OCR',\n",
       " 'Python',\n",
       " 'Power BI',\n",
       " 'Spark Data Scientist',\n",
       " 'Random Forest Classifier',\n",
       " 'Python',\n",
       " 'Random Forest Classifier',\n",
       " 'Elyra',\n",
       " 'Airflow',\n",
       " 'Python',\n",
       " 'Siamese Networks Machine Learning Engineer Churn Modelling',\n",
       " 'Churn',\n",
       " 'Python',\n",
       " 'Tensorflow Computer',\n",
       " 'Python',\n",
       " 'Yolo',\n",
       " 'Haar Cascade',\n",
       " 'Human Detection',\n",
       " 'Deep Learning',\n",
       " 'Improving Deep Neural Networks',\n",
       " 'Hyperparameter Tuning',\n",
       " 'Regularization',\n",
       " 'Machine Learning Projects',\n",
       " 'Sequence Models',\n",
       " 'Applied Machine Learning Certificate',\n",
       " 'Vietnam National University Ho Chi Minh City']"
      ]
     },
     "execution_count": 8,
     "metadata": {},
     "output_type": "execute_result"
    }
   ],
   "source": [
    "extract_features.extract_names(cv)"
   ]
  },
  {
   "cell_type": "code",
   "execution_count": null,
   "metadata": {},
   "outputs": [],
   "source": []
  }
 ],
 "metadata": {
  "kernelspec": {
   "display_name": "github_comments_classification",
   "language": "python",
   "name": "github_comments_classification"
  },
  "language_info": {
   "codemirror_mode": {
    "name": "ipython",
    "version": 3
   },
   "file_extension": ".py",
   "mimetype": "text/x-python",
   "name": "python",
   "nbconvert_exporter": "python",
   "pygments_lexer": "ipython3",
   "version": "3.7.8"
  },
  "orig_nbformat": 4,
  "vscode": {
   "interpreter": {
    "hash": "effaab0e1e295f99d48f19b055fbe46db739df7e35bcecdc25f33e93669bf25a"
   }
  }
 },
 "nbformat": 4,
 "nbformat_minor": 2
}
